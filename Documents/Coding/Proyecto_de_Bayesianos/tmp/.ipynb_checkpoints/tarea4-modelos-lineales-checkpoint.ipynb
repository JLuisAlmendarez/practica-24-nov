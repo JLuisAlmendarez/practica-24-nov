{
 "cells": [
  {
   "cell_type": "markdown",
   "metadata": {},
   "source": [
    "# Tarea 4. Modelos lineales\n",
    "\n",
    "<img style=\"float: right; margin: 0px 0px 15px 15px;\" src=\"https://storage.needpix.com/rsynced_images/bayesian-2889576_1280.png\" width=\"200px\" height=\"180px\" />\n",
    "\n",
    "En esta cuarta tarea, tendrás la oportunidad de estimar una relación cúbica usando un modelo lineal Bayesiano. Para esto usarás los datos en `data/Howell1`, considerando personas de todas las edades.\n",
    "\n",
    "Por favor, intenta ser lo más explícit@ posible, y en lo posible, apóyate de la escritura matemática con $\\LaTeX$.\n",
    "\n",
    "Recuerda además que ante cualquier duda, me puedes contactar al correo esjimenezro@iteso.mx.\n",
    "\n",
    "<p style=\"text-align:right;\"> Imagen recuperada de: https://storage.needpix.com/rsynced_images/bayesian-2889576_1280.png.</p>\n",
    "\n",
    "___"
   ]
  },
  {
   "cell_type": "code",
   "execution_count": null,
   "metadata": {},
   "outputs": [],
   "source": [
    "import pandas as pd\n",
    "import numpy as np\n",
    "import matplotlib.pyplot as plt\n",
    "import seaborn as sns\n",
    "import pymc as pm\n",
    "import arviz as az\n",
    "from scipy import stats"
   ]
  },
  {
   "cell_type": "code",
   "execution_count": null,
   "metadata": {},
   "outputs": [],
   "source": [
    "%pwd"
   ]
  },
  {
   "cell_type": "code",
   "execution_count": null,
   "metadata": {},
   "outputs": [],
   "source": [
    "df = pd.read_csv('data/Howell1.csv')"
   ]
  },
  {
   "cell_type": "code",
   "execution_count": null,
   "metadata": {},
   "outputs": [],
   "source": [
    "df.head()"
   ]
  },
  {
   "cell_type": "code",
   "execution_count": null,
   "metadata": {},
   "outputs": [],
   "source": [
    "def clean_dataframe(df):\n",
    "    primera_columna = df.columns[0]\n",
    "    \n",
    "    df_clean = df[primera_columna].str.split(';', expand=True)\n",
    "    \n",
    "    df_clean.columns = ['height', 'weight', 'age', 'male']\n",
    "    \n",
    "    for col in df_clean.columns:\n",
    "        df_clean[col] = df_clean[col].str.replace('\"', '')\n",
    "    \n",
    "    df_clean['height'] = df_clean['height'].astype(float)\n",
    "    df_clean['weight'] = df_clean['weight'].astype(float)\n",
    "    df_clean['age'] = df_clean['age'].astype(float)  \n",
    "    df_clean['male'] = df_clean['male'].astype(int)\n",
    "    \n",
    "    return df_clean"
   ]
  },
  {
   "cell_type": "code",
   "execution_count": null,
   "metadata": {},
   "outputs": [],
   "source": [
    "df_clean = clean_dataframe(df)"
   ]
  },
  {
   "cell_type": "code",
   "execution_count": null,
   "metadata": {},
   "outputs": [],
   "source": [
    "df_clean.head()"
   ]
  },
  {
   "cell_type": "markdown",
   "metadata": {},
   "source": [
    "## 1. \n",
    "\n",
    "Describir el modelo usando el lenguaje probabilístico visto en clase. Asegurarse, mediante una simulación predictiva previa que las previas son plausibles.\n",
    "\n",
    "**Ayuda**. Estandarizar el peso antes."
   ]
  },
  {
   "cell_type": "code",
   "execution_count": null,
   "metadata": {},
   "outputs": [],
   "source": [
    "weight_mean = df_clean['weight'].mean()\n",
    "weight_std = df_clean['weight'].std()\n",
    "weight_standardized = (df_clean['weight'] - weight_mean) / weight_std"
   ]
  },
  {
   "cell_type": "code",
   "execution_count": null,
   "metadata": {},
   "outputs": [],
   "source": [
    "np.random.seed(42)\n",
    "\n",
    "def simulate_height(weight_std, N=100):\n",
    "\n",
    "    alpha = np.random.normal(178, 20, N)\n",
    "    beta1 = np.random.normal(0, 10, N)\n",
    "    beta2 = np.random.normal(0, 10, N)\n",
    "    beta3 = np.random.normal(0, 10, N)\n",
    "    sigma = np.random.uniform(0, 50, N)\n",
    "    \n",
    "    weight_seq = np.linspace(-2, 2, 50)\n",
    "    predictions = np.zeros((N, len(weight_seq)))\n",
    "    \n",
    "    for i in range(N):\n",
    "        predictions[i] = alpha[i] + beta1[i]*weight_seq + beta2[i]*weight_seq**2 + beta3[i]*weight_seq**3\n",
    "    \n",
    "    return weight_seq, predictions"
   ]
  },
  {
   "cell_type": "code",
   "execution_count": null,
   "metadata": {},
   "outputs": [],
   "source": [
    "weight_seq, prior_predictions = simulate_height(weight_standardized)"
   ]
  },
  {
   "cell_type": "code",
   "execution_count": null,
   "metadata": {},
   "outputs": [],
   "source": [
    "plt.figure(figsize=(12, 6))\n",
    "for i in range(50):\n",
    "    plt.plot(weight_seq, prior_predictions[i], 'C0', alpha=0.1)\n",
    "plt.title('Prior Predictive Simulation')\n",
    "plt.xlabel('Standardized Weight')\n",
    "plt.ylabel('Height (cm)')\n",
    "plt.show()"
   ]
  },
  {
   "cell_type": "code",
   "execution_count": null,
   "metadata": {},
   "outputs": [],
   "source": [
    "with pm.Model() as model:\n",
    "    \n",
    "    alpha = pm.Normal('alpha', mu=178, sigma=20)\n",
    "    beta1 = pm.Normal('beta1', mu=0, sigma=10)\n",
    "    beta2 = pm.Normal('beta2', mu=0, sigma=10)\n",
    "    beta3 = pm.Normal('beta3', mu=0, sigma=10)\n",
    "    sigma = pm.Uniform('sigma', lower=0, upper=50)\n",
    "    \n",
    "    mu = alpha + beta1*weight_standardized + beta2*weight_standardized**2 + beta3*weight_standardized**3\n",
    "    \n",
    "    height = pm.Normal('height', mu=mu, sigma=sigma, observed=df_clean['height'])\n",
    "    \n",
    "    trace = pm.sample(2000, tune=1000, cores=2)"
   ]
  },
  {
   "cell_type": "code",
   "execution_count": null,
   "metadata": {},
   "outputs": [],
   "source": [
    "az.plot_trace(trace)\n",
    "plt.tight_layout()\n",
    "plt.show()"
   ]
  },
  {
   "cell_type": "markdown",
   "metadata": {},
   "source": [
    "## 2.\n",
    "\n",
    "Encontrar la distribución posterior de los parámetros. ¿Qué puede concluir de cada uno de ellos?"
   ]
  },
  {
   "cell_type": "code",
   "execution_count": null,
   "metadata": {},
   "outputs": [],
   "source": [
    "az.plot_posterior(trace)"
   ]
  },
  {
   "cell_type": "markdown",
   "metadata": {},
   "source": [
    "## 3.\n",
    "\n",
    "¿Cuál es la distribución de la altura promedio de un infante de 10kg según tu modelo y los datos?"
   ]
  },
  {
   "cell_type": "code",
   "execution_count": null,
   "metadata": {},
   "outputs": [],
   "source": [
    "infant_weight_std = (10 - weight_mean) / weight_std\n",
    "post_samples = pm.sample_posterior_predictive(trace, model=model)"
   ]
  },
  {
   "cell_type": "code",
   "execution_count": null,
   "metadata": {},
   "outputs": [],
   "source": [
    "print(infant_weight_std)\n",
    "print(post_samples)"
   ]
  },
  {
   "cell_type": "markdown",
   "metadata": {},
   "source": [
    "## 4.\n",
    "\n",
    "Graficar:\n",
    "\n",
    "- El intervalo de credibilidad al 89% de la altura para cada peso.\n",
    "- El intervalo de credibilidad al 89% de la altura promedio para cada peso.\n",
    "- La altura promedio para cada peso.\n",
    "- Los puntos correspondientes a cada individuo."
   ]
  },
  {
   "cell_type": "code",
   "execution_count": null,
   "metadata": {},
   "outputs": [],
   "source": [
    "height_pred = post_samples.posterior_predictive['height']\n",
    "weight_seq = np.linspace(df_clean['weight'].min(), df_clean['weight'].max(), 100)\n",
    "weight_seq_std = (weight_seq - weight_mean) / weight_std"
   ]
  },
  {
   "cell_type": "code",
   "execution_count": null,
   "metadata": {},
   "outputs": [],
   "source": [
    "alpha_samples = trace.posterior['alpha'].values.flatten()\n",
    "beta1_samples = trace.posterior['beta1'].values.flatten()\n",
    "beta2_samples = trace.posterior['beta2'].values.flatten()\n",
    "beta3_samples = trace.posterior['beta3'].values.flatten()\n",
    "\n",
    "predicted_heights = np.zeros((len(alpha_samples), len(weight_seq)))\n",
    "\n",
    "for i in range(len(alpha_samples)):\n",
    "    predicted_heights[i] = (\n",
    "        alpha_samples[i] +\n",
    "        beta1_samples[i] * weight_seq_std +\n",
    "        beta2_samples[i] * weight_seq_std**2 +\n",
    "        beta3_samples[i] * weight_seq_std**3\n",
    "    )"
   ]
  },
  {
   "cell_type": "code",
   "execution_count": null,
   "metadata": {},
   "outputs": [],
   "source": [
    "height_mean = predicted_heights.mean(axis=0)\n",
    "height_pi = np.percentile(predicted_heights, [5.5, 94.5], axis=0)\n",
    "height_ci = np.percentile(predicted_heights.mean(axis=1).reshape(-1, 1) + \n",
    "                         np.random.normal(0, trace.posterior['sigma'].mean(), \n",
    "                                        size=(len(predicted_heights), len(weight_seq))),\n",
    "                         [5.5, 94.5], axis=0)"
   ]
  },
  {
   "cell_type": "code",
   "execution_count": null,
   "metadata": {},
   "outputs": [],
   "source": [
    "plt.figure(figsize=(12, 8))\n",
    "plt.fill_between(weight_seq, height_pi[0], height_pi[1], alpha=0.3, color='gray', label='89% PI')\n",
    "plt.fill_between(weight_seq, height_ci[0], height_ci[1], alpha=0.3, color='blue', label='89% CI')\n",
    "plt.plot(weight_seq, height_mean, 'k', label='Mean prediction')\n",
    "plt.scatter(df_clean['weight'], df_clean['height'], alpha=0.5, label='Data')\n",
    "plt.xlabel('Weight (kg)')\n",
    "plt.ylabel('Height (cm)')\n",
    "plt.legend()\n",
    "plt.title('Height vs Weight: Model Predictions and Intervals')\n",
    "plt.show()"
   ]
  },
  {
   "cell_type": "markdown",
   "metadata": {},
   "source": [
    "<script>\n",
    "  $(document).ready(function(){\n",
    "    $('div.prompt').hide();\n",
    "    $('div.back-to-top').hide();\n",
    "    $('nav#menubar').hide();\n",
    "    $('.breadcrumb').hide();\n",
    "    $('.hidden-print').hide();\n",
    "  });\n",
    "</script>\n",
    "\n",
    "<footer id=\"attribution\" style=\"float:right; color:#808080; background:#fff;\">\n",
    "Created with Jupyter by Esteban Jiménez Rodríguez.\n",
    "</footer>"
   ]
  }
 ],
 "metadata": {
  "kernelspec": {
   "display_name": "Python 3 (ipykernel)",
   "language": "python",
   "name": "python3"
  },
  "language_info": {
   "codemirror_mode": {
    "name": "ipython",
    "version": 3
   },
   "file_extension": ".py",
   "mimetype": "text/x-python",
   "name": "python",
   "nbconvert_exporter": "python",
   "pygments_lexer": "ipython3",
   "version": "3.10.14"
  }
 },
 "nbformat": 4,
 "nbformat_minor": 4
}
